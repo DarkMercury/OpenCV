{
 "cells": [
  {
   "cell_type": "code",
   "execution_count": 1,
   "outputs": [],
   "source": [
    "from torchvision import models\n",
    "import os\n",
    "from torch.autograd import Variable\n",
    "import torch\n",
    "import cv2\n",
    "import numpy as np"
   ],
   "metadata": {
    "collapsed": false,
    "pycharm": {
     "name": "#%%\n"
    }
   }
  },
  {
   "cell_type": "markdown",
   "source": [
    "# Load the pretrained DNN"
   ],
   "metadata": {
    "collapsed": false,
    "pycharm": {
     "name": "#%% md\n"
    }
   }
  },
  {
   "cell_type": "code",
   "execution_count": 2,
   "outputs": [],
   "source": [
    "ResNet50 = models.resnet50(pretrained=True)"
   ],
   "metadata": {
    "collapsed": false,
    "pycharm": {
     "name": "#%%\n"
    }
   }
  },
  {
   "cell_type": "markdown",
   "source": [
    "# Convert the DNN to ONNX mat"
   ],
   "metadata": {
    "collapsed": false,
    "pycharm": {
     "name": "#%% md\n"
    }
   }
  },
  {
   "cell_type": "code",
   "execution_count": 3,
   "outputs": [
    {
     "name": "stdout",
     "output_type": "stream",
     "text": [
      "graph(%star : Float(1, 3, 224, 224, strides=[150528, 50176, 224, 1], requires_grad=0, device=cpu),\n",
      "      %fc.weight : Float(1000, 2048, strides=[2048, 1], requires_grad=1, device=cpu),\n",
      "      %fc.bias : Float(1000, strides=[1], requires_grad=1, device=cpu),\n",
      "      %497 : Float(64, 3, 7, 7, strides=[147, 49, 7, 1], requires_grad=0, device=cpu),\n",
      "      %498 : Float(64, strides=[1], requires_grad=0, device=cpu),\n",
      "      %500 : Float(64, 64, 1, 1, strides=[64, 1, 1, 1], requires_grad=0, device=cpu),\n",
      "      %501 : Float(64, strides=[1], requires_grad=0, device=cpu),\n",
      "      %503 : Float(64, 64, 3, 3, strides=[576, 9, 3, 1], requires_grad=0, device=cpu),\n",
      "      %504 : Float(64, strides=[1], requires_grad=0, device=cpu),\n",
      "      %506 : Float(256, 64, 1, 1, strides=[64, 1, 1, 1], requires_grad=0, device=cpu),\n",
      "      %507 : Float(256, strides=[1], requires_grad=0, device=cpu),\n",
      "      %509 : Float(256, 64, 1, 1, strides=[64, 1, 1, 1], requires_grad=0, device=cpu),\n",
      "      %510 : Float(256, strides=[1], requires_grad=0, device=cpu),\n",
      "      %512 : Float(64, 256, 1, 1, strides=[256, 1, 1, 1], requires_grad=0, device=cpu),\n",
      "      %513 : Float(64, strides=[1], requires_grad=0, device=cpu),\n",
      "      %515 : Float(64, 64, 3, 3, strides=[576, 9, 3, 1], requires_grad=0, device=cpu),\n",
      "      %516 : Float(64, strides=[1], requires_grad=0, device=cpu),\n",
      "      %518 : Float(256, 64, 1, 1, strides=[64, 1, 1, 1], requires_grad=0, device=cpu),\n",
      "      %519 : Float(256, strides=[1], requires_grad=0, device=cpu),\n",
      "      %521 : Float(64, 256, 1, 1, strides=[256, 1, 1, 1], requires_grad=0, device=cpu),\n",
      "      %522 : Float(64, strides=[1], requires_grad=0, device=cpu),\n",
      "      %524 : Float(64, 64, 3, 3, strides=[576, 9, 3, 1], requires_grad=0, device=cpu),\n",
      "      %525 : Float(64, strides=[1], requires_grad=0, device=cpu),\n",
      "      %527 : Float(256, 64, 1, 1, strides=[64, 1, 1, 1], requires_grad=0, device=cpu),\n",
      "      %528 : Float(256, strides=[1], requires_grad=0, device=cpu),\n",
      "      %530 : Float(128, 256, 1, 1, strides=[256, 1, 1, 1], requires_grad=0, device=cpu),\n",
      "      %531 : Float(128, strides=[1], requires_grad=0, device=cpu),\n",
      "      %533 : Float(128, 128, 3, 3, strides=[1152, 9, 3, 1], requires_grad=0, device=cpu),\n",
      "      %534 : Float(128, strides=[1], requires_grad=0, device=cpu),\n",
      "      %536 : Float(512, 128, 1, 1, strides=[128, 1, 1, 1], requires_grad=0, device=cpu),\n",
      "      %537 : Float(512, strides=[1], requires_grad=0, device=cpu),\n",
      "      %539 : Float(512, 256, 1, 1, strides=[256, 1, 1, 1], requires_grad=0, device=cpu),\n",
      "      %540 : Float(512, strides=[1], requires_grad=0, device=cpu),\n",
      "      %542 : Float(128, 512, 1, 1, strides=[512, 1, 1, 1], requires_grad=0, device=cpu),\n",
      "      %543 : Float(128, strides=[1], requires_grad=0, device=cpu),\n",
      "      %545 : Float(128, 128, 3, 3, strides=[1152, 9, 3, 1], requires_grad=0, device=cpu),\n",
      "      %546 : Float(128, strides=[1], requires_grad=0, device=cpu),\n",
      "      %548 : Float(512, 128, 1, 1, strides=[128, 1, 1, 1], requires_grad=0, device=cpu),\n",
      "      %549 : Float(512, strides=[1], requires_grad=0, device=cpu),\n",
      "      %551 : Float(128, 512, 1, 1, strides=[512, 1, 1, 1], requires_grad=0, device=cpu),\n",
      "      %552 : Float(128, strides=[1], requires_grad=0, device=cpu),\n",
      "      %554 : Float(128, 128, 3, 3, strides=[1152, 9, 3, 1], requires_grad=0, device=cpu),\n",
      "      %555 : Float(128, strides=[1], requires_grad=0, device=cpu),\n",
      "      %557 : Float(512, 128, 1, 1, strides=[128, 1, 1, 1], requires_grad=0, device=cpu),\n",
      "      %558 : Float(512, strides=[1], requires_grad=0, device=cpu),\n",
      "      %560 : Float(128, 512, 1, 1, strides=[512, 1, 1, 1], requires_grad=0, device=cpu),\n",
      "      %561 : Float(128, strides=[1], requires_grad=0, device=cpu),\n",
      "      %563 : Float(128, 128, 3, 3, strides=[1152, 9, 3, 1], requires_grad=0, device=cpu),\n",
      "      %564 : Float(128, strides=[1], requires_grad=0, device=cpu),\n",
      "      %566 : Float(512, 128, 1, 1, strides=[128, 1, 1, 1], requires_grad=0, device=cpu),\n",
      "      %567 : Float(512, strides=[1], requires_grad=0, device=cpu),\n",
      "      %569 : Float(256, 512, 1, 1, strides=[512, 1, 1, 1], requires_grad=0, device=cpu),\n",
      "      %570 : Float(256, strides=[1], requires_grad=0, device=cpu),\n",
      "      %572 : Float(256, 256, 3, 3, strides=[2304, 9, 3, 1], requires_grad=0, device=cpu),\n",
      "      %573 : Float(256, strides=[1], requires_grad=0, device=cpu),\n",
      "      %575 : Float(1024, 256, 1, 1, strides=[256, 1, 1, 1], requires_grad=0, device=cpu),\n",
      "      %576 : Float(1024, strides=[1], requires_grad=0, device=cpu),\n",
      "      %578 : Float(1024, 512, 1, 1, strides=[512, 1, 1, 1], requires_grad=0, device=cpu),\n",
      "      %579 : Float(1024, strides=[1], requires_grad=0, device=cpu),\n",
      "      %581 : Float(256, 1024, 1, 1, strides=[1024, 1, 1, 1], requires_grad=0, device=cpu),\n",
      "      %582 : Float(256, strides=[1], requires_grad=0, device=cpu),\n",
      "      %584 : Float(256, 256, 3, 3, strides=[2304, 9, 3, 1], requires_grad=0, device=cpu),\n",
      "      %585 : Float(256, strides=[1], requires_grad=0, device=cpu),\n",
      "      %587 : Float(1024, 256, 1, 1, strides=[256, 1, 1, 1], requires_grad=0, device=cpu),\n",
      "      %588 : Float(1024, strides=[1], requires_grad=0, device=cpu),\n",
      "      %590 : Float(256, 1024, 1, 1, strides=[1024, 1, 1, 1], requires_grad=0, device=cpu),\n",
      "      %591 : Float(256, strides=[1], requires_grad=0, device=cpu),\n",
      "      %593 : Float(256, 256, 3, 3, strides=[2304, 9, 3, 1], requires_grad=0, device=cpu),\n",
      "      %594 : Float(256, strides=[1], requires_grad=0, device=cpu),\n",
      "      %596 : Float(1024, 256, 1, 1, strides=[256, 1, 1, 1], requires_grad=0, device=cpu),\n",
      "      %597 : Float(1024, strides=[1], requires_grad=0, device=cpu),\n",
      "      %599 : Float(256, 1024, 1, 1, strides=[1024, 1, 1, 1], requires_grad=0, device=cpu),\n",
      "      %600 : Float(256, strides=[1], requires_grad=0, device=cpu),\n",
      "      %602 : Float(256, 256, 3, 3, strides=[2304, 9, 3, 1], requires_grad=0, device=cpu),\n",
      "      %603 : Float(256, strides=[1], requires_grad=0, device=cpu),\n",
      "      %605 : Float(1024, 256, 1, 1, strides=[256, 1, 1, 1], requires_grad=0, device=cpu),\n",
      "      %606 : Float(1024, strides=[1], requires_grad=0, device=cpu),\n",
      "      %608 : Float(256, 1024, 1, 1, strides=[1024, 1, 1, 1], requires_grad=0, device=cpu),\n",
      "      %609 : Float(256, strides=[1], requires_grad=0, device=cpu),\n",
      "      %611 : Float(256, 256, 3, 3, strides=[2304, 9, 3, 1], requires_grad=0, device=cpu),\n",
      "      %612 : Float(256, strides=[1], requires_grad=0, device=cpu),\n",
      "      %614 : Float(1024, 256, 1, 1, strides=[256, 1, 1, 1], requires_grad=0, device=cpu),\n",
      "      %615 : Float(1024, strides=[1], requires_grad=0, device=cpu),\n",
      "      %617 : Float(256, 1024, 1, 1, strides=[1024, 1, 1, 1], requires_grad=0, device=cpu),\n",
      "      %618 : Float(256, strides=[1], requires_grad=0, device=cpu),\n",
      "      %620 : Float(256, 256, 3, 3, strides=[2304, 9, 3, 1], requires_grad=0, device=cpu),\n",
      "      %621 : Float(256, strides=[1], requires_grad=0, device=cpu),\n",
      "      %623 : Float(1024, 256, 1, 1, strides=[256, 1, 1, 1], requires_grad=0, device=cpu),\n",
      "      %624 : Float(1024, strides=[1], requires_grad=0, device=cpu),\n",
      "      %626 : Float(512, 1024, 1, 1, strides=[1024, 1, 1, 1], requires_grad=0, device=cpu),\n",
      "      %627 : Float(512, strides=[1], requires_grad=0, device=cpu),\n",
      "      %629 : Float(512, 512, 3, 3, strides=[4608, 9, 3, 1], requires_grad=0, device=cpu),\n",
      "      %630 : Float(512, strides=[1], requires_grad=0, device=cpu),\n",
      "      %632 : Float(2048, 512, 1, 1, strides=[512, 1, 1, 1], requires_grad=0, device=cpu),\n",
      "      %633 : Float(2048, strides=[1], requires_grad=0, device=cpu),\n",
      "      %635 : Float(2048, 1024, 1, 1, strides=[1024, 1, 1, 1], requires_grad=0, device=cpu),\n",
      "      %636 : Float(2048, strides=[1], requires_grad=0, device=cpu),\n",
      "      %638 : Float(512, 2048, 1, 1, strides=[2048, 1, 1, 1], requires_grad=0, device=cpu),\n",
      "      %639 : Float(512, strides=[1], requires_grad=0, device=cpu),\n",
      "      %641 : Float(512, 512, 3, 3, strides=[4608, 9, 3, 1], requires_grad=0, device=cpu),\n",
      "      %642 : Float(512, strides=[1], requires_grad=0, device=cpu),\n",
      "      %644 : Float(2048, 512, 1, 1, strides=[512, 1, 1, 1], requires_grad=0, device=cpu),\n",
      "      %645 : Float(2048, strides=[1], requires_grad=0, device=cpu),\n",
      "      %647 : Float(512, 2048, 1, 1, strides=[2048, 1, 1, 1], requires_grad=0, device=cpu),\n",
      "      %648 : Float(512, strides=[1], requires_grad=0, device=cpu),\n",
      "      %650 : Float(512, 512, 3, 3, strides=[4608, 9, 3, 1], requires_grad=0, device=cpu),\n",
      "      %651 : Float(512, strides=[1], requires_grad=0, device=cpu),\n",
      "      %653 : Float(2048, 512, 1, 1, strides=[512, 1, 1, 1], requires_grad=0, device=cpu),\n",
      "      %654 : Float(2048, strides=[1], requires_grad=0, device=cpu)):\n",
      "  %input.4 : Float(1, 64, 112, 112, strides=[802816, 12544, 112, 1], requires_grad=1, device=cpu) = onnx::Conv[dilations=[1, 1], group=1, kernel_shape=[7, 7], pads=[3, 3, 3, 3], strides=[2, 2]](%star, %497, %498) # /home/athena/anaconda3/envs/pythonProject/lib/python3.10/site-packages/torch/nn/modules/conv.py:442:0\n",
      "  %323 : Float(1, 64, 112, 112, strides=[802816, 12544, 112, 1], requires_grad=1, device=cpu) = onnx::Relu(%input.4) # /home/athena/anaconda3/envs/pythonProject/lib/python3.10/site-packages/torch/nn/functional.py:1438:0\n",
      "  %input.8 : Float(1, 64, 56, 56, strides=[200704, 3136, 56, 1], requires_grad=1, device=cpu) = onnx::MaxPool[ceil_mode=0, kernel_shape=[3, 3], pads=[1, 1, 1, 1], strides=[2, 2]](%323) # /home/athena/anaconda3/envs/pythonProject/lib/python3.10/site-packages/torch/nn/functional.py:784:0\n",
      "  %input.16 : Float(1, 64, 56, 56, strides=[200704, 3136, 56, 1], requires_grad=1, device=cpu) = onnx::Conv[dilations=[1, 1], group=1, kernel_shape=[1, 1], pads=[0, 0, 0, 0], strides=[1, 1]](%input.8, %500, %501) # /home/athena/anaconda3/envs/pythonProject/lib/python3.10/site-packages/torch/nn/modules/conv.py:442:0\n",
      "  %327 : Float(1, 64, 56, 56, strides=[200704, 3136, 56, 1], requires_grad=1, device=cpu) = onnx::Relu(%input.16) # /home/athena/anaconda3/envs/pythonProject/lib/python3.10/site-packages/torch/nn/functional.py:1438:0\n",
      "  %input.24 : Float(1, 64, 56, 56, strides=[200704, 3136, 56, 1], requires_grad=1, device=cpu) = onnx::Conv[dilations=[1, 1], group=1, kernel_shape=[3, 3], pads=[1, 1, 1, 1], strides=[1, 1]](%327, %503, %504) # /home/athena/anaconda3/envs/pythonProject/lib/python3.10/site-packages/torch/nn/modules/conv.py:442:0\n",
      "  %330 : Float(1, 64, 56, 56, strides=[200704, 3136, 56, 1], requires_grad=1, device=cpu) = onnx::Relu(%input.24) # /home/athena/anaconda3/envs/pythonProject/lib/python3.10/site-packages/torch/nn/functional.py:1438:0\n",
      "  %505 : Float(1, 256, 56, 56, strides=[802816, 3136, 56, 1], requires_grad=1, device=cpu) = onnx::Conv[dilations=[1, 1], group=1, kernel_shape=[1, 1], pads=[0, 0, 0, 0], strides=[1, 1]](%330, %506, %507) # /home/athena/anaconda3/envs/pythonProject/lib/python3.10/site-packages/torch/nn/modules/conv.py:442:0\n",
      "  %508 : Float(1, 256, 56, 56, strides=[802816, 3136, 56, 1], requires_grad=1, device=cpu) = onnx::Conv[dilations=[1, 1], group=1, kernel_shape=[1, 1], pads=[0, 0, 0, 0], strides=[1, 1]](%input.8, %509, %510) # /home/athena/anaconda3/envs/pythonProject/lib/python3.10/site-packages/torch/nn/modules/conv.py:442:0\n",
      "  %335 : Float(1, 256, 56, 56, strides=[802816, 3136, 56, 1], requires_grad=1, device=cpu) = onnx::Add(%505, %508) # /home/athena/anaconda3/envs/pythonProject/lib/python3.10/site-packages/torchvision/models/resnet.py:150:0\n",
      "  %input.36 : Float(1, 256, 56, 56, strides=[802816, 3136, 56, 1], requires_grad=1, device=cpu) = onnx::Relu(%335) # /home/athena/anaconda3/envs/pythonProject/lib/python3.10/site-packages/torch/nn/functional.py:1438:0\n",
      "  %input.44 : Float(1, 64, 56, 56, strides=[200704, 3136, 56, 1], requires_grad=1, device=cpu) = onnx::Conv[dilations=[1, 1], group=1, kernel_shape=[1, 1], pads=[0, 0, 0, 0], strides=[1, 1]](%input.36, %512, %513) # /home/athena/anaconda3/envs/pythonProject/lib/python3.10/site-packages/torch/nn/modules/conv.py:442:0\n",
      "  %339 : Float(1, 64, 56, 56, strides=[200704, 3136, 56, 1], requires_grad=1, device=cpu) = onnx::Relu(%input.44) # /home/athena/anaconda3/envs/pythonProject/lib/python3.10/site-packages/torch/nn/functional.py:1438:0\n",
      "  %input.52 : Float(1, 64, 56, 56, strides=[200704, 3136, 56, 1], requires_grad=1, device=cpu) = onnx::Conv[dilations=[1, 1], group=1, kernel_shape=[3, 3], pads=[1, 1, 1, 1], strides=[1, 1]](%339, %515, %516) # /home/athena/anaconda3/envs/pythonProject/lib/python3.10/site-packages/torch/nn/modules/conv.py:442:0\n",
      "  %342 : Float(1, 64, 56, 56, strides=[200704, 3136, 56, 1], requires_grad=1, device=cpu) = onnx::Relu(%input.52) # /home/athena/anaconda3/envs/pythonProject/lib/python3.10/site-packages/torch/nn/functional.py:1438:0\n",
      "  %517 : Float(1, 256, 56, 56, strides=[802816, 3136, 56, 1], requires_grad=1, device=cpu) = onnx::Conv[dilations=[1, 1], group=1, kernel_shape=[1, 1], pads=[0, 0, 0, 0], strides=[1, 1]](%342, %518, %519) # /home/athena/anaconda3/envs/pythonProject/lib/python3.10/site-packages/torch/nn/modules/conv.py:442:0\n",
      "  %345 : Float(1, 256, 56, 56, strides=[802816, 3136, 56, 1], requires_grad=1, device=cpu) = onnx::Add(%517, %input.36) # /home/athena/anaconda3/envs/pythonProject/lib/python3.10/site-packages/torchvision/models/resnet.py:150:0\n",
      "  %input.60 : Float(1, 256, 56, 56, strides=[802816, 3136, 56, 1], requires_grad=1, device=cpu) = onnx::Relu(%345) # /home/athena/anaconda3/envs/pythonProject/lib/python3.10/site-packages/torch/nn/functional.py:1438:0\n",
      "  %input.68 : Float(1, 64, 56, 56, strides=[200704, 3136, 56, 1], requires_grad=1, device=cpu) = onnx::Conv[dilations=[1, 1], group=1, kernel_shape=[1, 1], pads=[0, 0, 0, 0], strides=[1, 1]](%input.60, %521, %522) # /home/athena/anaconda3/envs/pythonProject/lib/python3.10/site-packages/torch/nn/modules/conv.py:442:0\n",
      "  %349 : Float(1, 64, 56, 56, strides=[200704, 3136, 56, 1], requires_grad=1, device=cpu) = onnx::Relu(%input.68) # /home/athena/anaconda3/envs/pythonProject/lib/python3.10/site-packages/torch/nn/functional.py:1438:0\n",
      "  %input.76 : Float(1, 64, 56, 56, strides=[200704, 3136, 56, 1], requires_grad=1, device=cpu) = onnx::Conv[dilations=[1, 1], group=1, kernel_shape=[3, 3], pads=[1, 1, 1, 1], strides=[1, 1]](%349, %524, %525) # /home/athena/anaconda3/envs/pythonProject/lib/python3.10/site-packages/torch/nn/modules/conv.py:442:0\n",
      "  %352 : Float(1, 64, 56, 56, strides=[200704, 3136, 56, 1], requires_grad=1, device=cpu) = onnx::Relu(%input.76) # /home/athena/anaconda3/envs/pythonProject/lib/python3.10/site-packages/torch/nn/functional.py:1438:0\n",
      "  %526 : Float(1, 256, 56, 56, strides=[802816, 3136, 56, 1], requires_grad=1, device=cpu) = onnx::Conv[dilations=[1, 1], group=1, kernel_shape=[1, 1], pads=[0, 0, 0, 0], strides=[1, 1]](%352, %527, %528) # /home/athena/anaconda3/envs/pythonProject/lib/python3.10/site-packages/torch/nn/modules/conv.py:442:0\n",
      "  %355 : Float(1, 256, 56, 56, strides=[802816, 3136, 56, 1], requires_grad=1, device=cpu) = onnx::Add(%526, %input.60) # /home/athena/anaconda3/envs/pythonProject/lib/python3.10/site-packages/torchvision/models/resnet.py:150:0\n",
      "  %input.84 : Float(1, 256, 56, 56, strides=[802816, 3136, 56, 1], requires_grad=1, device=cpu) = onnx::Relu(%355) # /home/athena/anaconda3/envs/pythonProject/lib/python3.10/site-packages/torch/nn/functional.py:1438:0\n",
      "  %input.92 : Float(1, 128, 56, 56, strides=[401408, 3136, 56, 1], requires_grad=1, device=cpu) = onnx::Conv[dilations=[1, 1], group=1, kernel_shape=[1, 1], pads=[0, 0, 0, 0], strides=[1, 1]](%input.84, %530, %531) # /home/athena/anaconda3/envs/pythonProject/lib/python3.10/site-packages/torch/nn/modules/conv.py:442:0\n",
      "  %359 : Float(1, 128, 56, 56, strides=[401408, 3136, 56, 1], requires_grad=1, device=cpu) = onnx::Relu(%input.92) # /home/athena/anaconda3/envs/pythonProject/lib/python3.10/site-packages/torch/nn/functional.py:1438:0\n",
      "  %input.100 : Float(1, 128, 28, 28, strides=[100352, 784, 28, 1], requires_grad=1, device=cpu) = onnx::Conv[dilations=[1, 1], group=1, kernel_shape=[3, 3], pads=[1, 1, 1, 1], strides=[2, 2]](%359, %533, %534) # /home/athena/anaconda3/envs/pythonProject/lib/python3.10/site-packages/torch/nn/modules/conv.py:442:0\n",
      "  %362 : Float(1, 128, 28, 28, strides=[100352, 784, 28, 1], requires_grad=1, device=cpu) = onnx::Relu(%input.100) # /home/athena/anaconda3/envs/pythonProject/lib/python3.10/site-packages/torch/nn/functional.py:1438:0\n",
      "  %535 : Float(1, 512, 28, 28, strides=[401408, 784, 28, 1], requires_grad=1, device=cpu) = onnx::Conv[dilations=[1, 1], group=1, kernel_shape=[1, 1], pads=[0, 0, 0, 0], strides=[1, 1]](%362, %536, %537) # /home/athena/anaconda3/envs/pythonProject/lib/python3.10/site-packages/torch/nn/modules/conv.py:442:0\n",
      "  %538 : Float(1, 512, 28, 28, strides=[401408, 784, 28, 1], requires_grad=1, device=cpu) = onnx::Conv[dilations=[1, 1], group=1, kernel_shape=[1, 1], pads=[0, 0, 0, 0], strides=[2, 2]](%input.84, %539, %540) # /home/athena/anaconda3/envs/pythonProject/lib/python3.10/site-packages/torch/nn/modules/conv.py:442:0\n",
      "  %367 : Float(1, 512, 28, 28, strides=[401408, 784, 28, 1], requires_grad=1, device=cpu) = onnx::Add(%535, %538) # /home/athena/anaconda3/envs/pythonProject/lib/python3.10/site-packages/torchvision/models/resnet.py:150:0\n",
      "  %input.112 : Float(1, 512, 28, 28, strides=[401408, 784, 28, 1], requires_grad=1, device=cpu) = onnx::Relu(%367) # /home/athena/anaconda3/envs/pythonProject/lib/python3.10/site-packages/torch/nn/functional.py:1438:0\n",
      "  %input.120 : Float(1, 128, 28, 28, strides=[100352, 784, 28, 1], requires_grad=1, device=cpu) = onnx::Conv[dilations=[1, 1], group=1, kernel_shape=[1, 1], pads=[0, 0, 0, 0], strides=[1, 1]](%input.112, %542, %543) # /home/athena/anaconda3/envs/pythonProject/lib/python3.10/site-packages/torch/nn/modules/conv.py:442:0\n",
      "  %371 : Float(1, 128, 28, 28, strides=[100352, 784, 28, 1], requires_grad=1, device=cpu) = onnx::Relu(%input.120) # /home/athena/anaconda3/envs/pythonProject/lib/python3.10/site-packages/torch/nn/functional.py:1438:0\n",
      "  %input.128 : Float(1, 128, 28, 28, strides=[100352, 784, 28, 1], requires_grad=1, device=cpu) = onnx::Conv[dilations=[1, 1], group=1, kernel_shape=[3, 3], pads=[1, 1, 1, 1], strides=[1, 1]](%371, %545, %546) # /home/athena/anaconda3/envs/pythonProject/lib/python3.10/site-packages/torch/nn/modules/conv.py:442:0\n",
      "  %374 : Float(1, 128, 28, 28, strides=[100352, 784, 28, 1], requires_grad=1, device=cpu) = onnx::Relu(%input.128) # /home/athena/anaconda3/envs/pythonProject/lib/python3.10/site-packages/torch/nn/functional.py:1438:0\n",
      "  %547 : Float(1, 512, 28, 28, strides=[401408, 784, 28, 1], requires_grad=1, device=cpu) = onnx::Conv[dilations=[1, 1], group=1, kernel_shape=[1, 1], pads=[0, 0, 0, 0], strides=[1, 1]](%374, %548, %549) # /home/athena/anaconda3/envs/pythonProject/lib/python3.10/site-packages/torch/nn/modules/conv.py:442:0\n",
      "  %377 : Float(1, 512, 28, 28, strides=[401408, 784, 28, 1], requires_grad=1, device=cpu) = onnx::Add(%547, %input.112) # /home/athena/anaconda3/envs/pythonProject/lib/python3.10/site-packages/torchvision/models/resnet.py:150:0\n",
      "  %input.136 : Float(1, 512, 28, 28, strides=[401408, 784, 28, 1], requires_grad=1, device=cpu) = onnx::Relu(%377) # /home/athena/anaconda3/envs/pythonProject/lib/python3.10/site-packages/torch/nn/functional.py:1438:0\n",
      "  %input.144 : Float(1, 128, 28, 28, strides=[100352, 784, 28, 1], requires_grad=1, device=cpu) = onnx::Conv[dilations=[1, 1], group=1, kernel_shape=[1, 1], pads=[0, 0, 0, 0], strides=[1, 1]](%input.136, %551, %552) # /home/athena/anaconda3/envs/pythonProject/lib/python3.10/site-packages/torch/nn/modules/conv.py:442:0\n",
      "  %381 : Float(1, 128, 28, 28, strides=[100352, 784, 28, 1], requires_grad=1, device=cpu) = onnx::Relu(%input.144) # /home/athena/anaconda3/envs/pythonProject/lib/python3.10/site-packages/torch/nn/functional.py:1438:0\n",
      "  %input.152 : Float(1, 128, 28, 28, strides=[100352, 784, 28, 1], requires_grad=1, device=cpu) = onnx::Conv[dilations=[1, 1], group=1, kernel_shape=[3, 3], pads=[1, 1, 1, 1], strides=[1, 1]](%381, %554, %555) # /home/athena/anaconda3/envs/pythonProject/lib/python3.10/site-packages/torch/nn/modules/conv.py:442:0\n",
      "  %384 : Float(1, 128, 28, 28, strides=[100352, 784, 28, 1], requires_grad=1, device=cpu) = onnx::Relu(%input.152) # /home/athena/anaconda3/envs/pythonProject/lib/python3.10/site-packages/torch/nn/functional.py:1438:0\n",
      "  %556 : Float(1, 512, 28, 28, strides=[401408, 784, 28, 1], requires_grad=1, device=cpu) = onnx::Conv[dilations=[1, 1], group=1, kernel_shape=[1, 1], pads=[0, 0, 0, 0], strides=[1, 1]](%384, %557, %558) # /home/athena/anaconda3/envs/pythonProject/lib/python3.10/site-packages/torch/nn/modules/conv.py:442:0\n",
      "  %387 : Float(1, 512, 28, 28, strides=[401408, 784, 28, 1], requires_grad=1, device=cpu) = onnx::Add(%556, %input.136) # /home/athena/anaconda3/envs/pythonProject/lib/python3.10/site-packages/torchvision/models/resnet.py:150:0\n",
      "  %input.160 : Float(1, 512, 28, 28, strides=[401408, 784, 28, 1], requires_grad=1, device=cpu) = onnx::Relu(%387) # /home/athena/anaconda3/envs/pythonProject/lib/python3.10/site-packages/torch/nn/functional.py:1438:0\n",
      "  %input.168 : Float(1, 128, 28, 28, strides=[100352, 784, 28, 1], requires_grad=1, device=cpu) = onnx::Conv[dilations=[1, 1], group=1, kernel_shape=[1, 1], pads=[0, 0, 0, 0], strides=[1, 1]](%input.160, %560, %561) # /home/athena/anaconda3/envs/pythonProject/lib/python3.10/site-packages/torch/nn/modules/conv.py:442:0\n",
      "  %391 : Float(1, 128, 28, 28, strides=[100352, 784, 28, 1], requires_grad=1, device=cpu) = onnx::Relu(%input.168) # /home/athena/anaconda3/envs/pythonProject/lib/python3.10/site-packages/torch/nn/functional.py:1438:0\n",
      "  %input.176 : Float(1, 128, 28, 28, strides=[100352, 784, 28, 1], requires_grad=1, device=cpu) = onnx::Conv[dilations=[1, 1], group=1, kernel_shape=[3, 3], pads=[1, 1, 1, 1], strides=[1, 1]](%391, %563, %564) # /home/athena/anaconda3/envs/pythonProject/lib/python3.10/site-packages/torch/nn/modules/conv.py:442:0\n",
      "  %394 : Float(1, 128, 28, 28, strides=[100352, 784, 28, 1], requires_grad=1, device=cpu) = onnx::Relu(%input.176) # /home/athena/anaconda3/envs/pythonProject/lib/python3.10/site-packages/torch/nn/functional.py:1438:0\n",
      "  %565 : Float(1, 512, 28, 28, strides=[401408, 784, 28, 1], requires_grad=1, device=cpu) = onnx::Conv[dilations=[1, 1], group=1, kernel_shape=[1, 1], pads=[0, 0, 0, 0], strides=[1, 1]](%394, %566, %567) # /home/athena/anaconda3/envs/pythonProject/lib/python3.10/site-packages/torch/nn/modules/conv.py:442:0\n",
      "  %397 : Float(1, 512, 28, 28, strides=[401408, 784, 28, 1], requires_grad=1, device=cpu) = onnx::Add(%565, %input.160) # /home/athena/anaconda3/envs/pythonProject/lib/python3.10/site-packages/torchvision/models/resnet.py:150:0\n",
      "  %input.184 : Float(1, 512, 28, 28, strides=[401408, 784, 28, 1], requires_grad=1, device=cpu) = onnx::Relu(%397) # /home/athena/anaconda3/envs/pythonProject/lib/python3.10/site-packages/torch/nn/functional.py:1438:0\n",
      "  %input.192 : Float(1, 256, 28, 28, strides=[200704, 784, 28, 1], requires_grad=1, device=cpu) = onnx::Conv[dilations=[1, 1], group=1, kernel_shape=[1, 1], pads=[0, 0, 0, 0], strides=[1, 1]](%input.184, %569, %570) # /home/athena/anaconda3/envs/pythonProject/lib/python3.10/site-packages/torch/nn/modules/conv.py:442:0\n",
      "  %401 : Float(1, 256, 28, 28, strides=[200704, 784, 28, 1], requires_grad=1, device=cpu) = onnx::Relu(%input.192) # /home/athena/anaconda3/envs/pythonProject/lib/python3.10/site-packages/torch/nn/functional.py:1438:0\n",
      "  %input.200 : Float(1, 256, 14, 14, strides=[50176, 196, 14, 1], requires_grad=1, device=cpu) = onnx::Conv[dilations=[1, 1], group=1, kernel_shape=[3, 3], pads=[1, 1, 1, 1], strides=[2, 2]](%401, %572, %573) # /home/athena/anaconda3/envs/pythonProject/lib/python3.10/site-packages/torch/nn/modules/conv.py:442:0\n",
      "  %404 : Float(1, 256, 14, 14, strides=[50176, 196, 14, 1], requires_grad=1, device=cpu) = onnx::Relu(%input.200) # /home/athena/anaconda3/envs/pythonProject/lib/python3.10/site-packages/torch/nn/functional.py:1438:0\n",
      "  %574 : Float(1, 1024, 14, 14, strides=[200704, 196, 14, 1], requires_grad=1, device=cpu) = onnx::Conv[dilations=[1, 1], group=1, kernel_shape=[1, 1], pads=[0, 0, 0, 0], strides=[1, 1]](%404, %575, %576) # /home/athena/anaconda3/envs/pythonProject/lib/python3.10/site-packages/torch/nn/modules/conv.py:442:0\n",
      "  %577 : Float(1, 1024, 14, 14, strides=[200704, 196, 14, 1], requires_grad=1, device=cpu) = onnx::Conv[dilations=[1, 1], group=1, kernel_shape=[1, 1], pads=[0, 0, 0, 0], strides=[2, 2]](%input.184, %578, %579) # /home/athena/anaconda3/envs/pythonProject/lib/python3.10/site-packages/torch/nn/modules/conv.py:442:0\n",
      "  %409 : Float(1, 1024, 14, 14, strides=[200704, 196, 14, 1], requires_grad=1, device=cpu) = onnx::Add(%574, %577) # /home/athena/anaconda3/envs/pythonProject/lib/python3.10/site-packages/torchvision/models/resnet.py:150:0\n",
      "  %input.212 : Float(1, 1024, 14, 14, strides=[200704, 196, 14, 1], requires_grad=1, device=cpu) = onnx::Relu(%409) # /home/athena/anaconda3/envs/pythonProject/lib/python3.10/site-packages/torch/nn/functional.py:1438:0\n",
      "  %input.220 : Float(1, 256, 14, 14, strides=[50176, 196, 14, 1], requires_grad=1, device=cpu) = onnx::Conv[dilations=[1, 1], group=1, kernel_shape=[1, 1], pads=[0, 0, 0, 0], strides=[1, 1]](%input.212, %581, %582) # /home/athena/anaconda3/envs/pythonProject/lib/python3.10/site-packages/torch/nn/modules/conv.py:442:0\n",
      "  %413 : Float(1, 256, 14, 14, strides=[50176, 196, 14, 1], requires_grad=1, device=cpu) = onnx::Relu(%input.220) # /home/athena/anaconda3/envs/pythonProject/lib/python3.10/site-packages/torch/nn/functional.py:1438:0\n",
      "  %input.228 : Float(1, 256, 14, 14, strides=[50176, 196, 14, 1], requires_grad=1, device=cpu) = onnx::Conv[dilations=[1, 1], group=1, kernel_shape=[3, 3], pads=[1, 1, 1, 1], strides=[1, 1]](%413, %584, %585) # /home/athena/anaconda3/envs/pythonProject/lib/python3.10/site-packages/torch/nn/modules/conv.py:442:0\n",
      "  %416 : Float(1, 256, 14, 14, strides=[50176, 196, 14, 1], requires_grad=1, device=cpu) = onnx::Relu(%input.228) # /home/athena/anaconda3/envs/pythonProject/lib/python3.10/site-packages/torch/nn/functional.py:1438:0\n",
      "  %586 : Float(1, 1024, 14, 14, strides=[200704, 196, 14, 1], requires_grad=1, device=cpu) = onnx::Conv[dilations=[1, 1], group=1, kernel_shape=[1, 1], pads=[0, 0, 0, 0], strides=[1, 1]](%416, %587, %588) # /home/athena/anaconda3/envs/pythonProject/lib/python3.10/site-packages/torch/nn/modules/conv.py:442:0\n",
      "  %419 : Float(1, 1024, 14, 14, strides=[200704, 196, 14, 1], requires_grad=1, device=cpu) = onnx::Add(%586, %input.212) # /home/athena/anaconda3/envs/pythonProject/lib/python3.10/site-packages/torchvision/models/resnet.py:150:0\n",
      "  %input.236 : Float(1, 1024, 14, 14, strides=[200704, 196, 14, 1], requires_grad=1, device=cpu) = onnx::Relu(%419) # /home/athena/anaconda3/envs/pythonProject/lib/python3.10/site-packages/torch/nn/functional.py:1438:0\n",
      "  %input.244 : Float(1, 256, 14, 14, strides=[50176, 196, 14, 1], requires_grad=1, device=cpu) = onnx::Conv[dilations=[1, 1], group=1, kernel_shape=[1, 1], pads=[0, 0, 0, 0], strides=[1, 1]](%input.236, %590, %591) # /home/athena/anaconda3/envs/pythonProject/lib/python3.10/site-packages/torch/nn/modules/conv.py:442:0\n",
      "  %423 : Float(1, 256, 14, 14, strides=[50176, 196, 14, 1], requires_grad=1, device=cpu) = onnx::Relu(%input.244) # /home/athena/anaconda3/envs/pythonProject/lib/python3.10/site-packages/torch/nn/functional.py:1438:0\n",
      "  %input.252 : Float(1, 256, 14, 14, strides=[50176, 196, 14, 1], requires_grad=1, device=cpu) = onnx::Conv[dilations=[1, 1], group=1, kernel_shape=[3, 3], pads=[1, 1, 1, 1], strides=[1, 1]](%423, %593, %594) # /home/athena/anaconda3/envs/pythonProject/lib/python3.10/site-packages/torch/nn/modules/conv.py:442:0\n",
      "  %426 : Float(1, 256, 14, 14, strides=[50176, 196, 14, 1], requires_grad=1, device=cpu) = onnx::Relu(%input.252) # /home/athena/anaconda3/envs/pythonProject/lib/python3.10/site-packages/torch/nn/functional.py:1438:0\n",
      "  %595 : Float(1, 1024, 14, 14, strides=[200704, 196, 14, 1], requires_grad=1, device=cpu) = onnx::Conv[dilations=[1, 1], group=1, kernel_shape=[1, 1], pads=[0, 0, 0, 0], strides=[1, 1]](%426, %596, %597) # /home/athena/anaconda3/envs/pythonProject/lib/python3.10/site-packages/torch/nn/modules/conv.py:442:0\n",
      "  %429 : Float(1, 1024, 14, 14, strides=[200704, 196, 14, 1], requires_grad=1, device=cpu) = onnx::Add(%595, %input.236) # /home/athena/anaconda3/envs/pythonProject/lib/python3.10/site-packages/torchvision/models/resnet.py:150:0\n",
      "  %input.260 : Float(1, 1024, 14, 14, strides=[200704, 196, 14, 1], requires_grad=1, device=cpu) = onnx::Relu(%429) # /home/athena/anaconda3/envs/pythonProject/lib/python3.10/site-packages/torch/nn/functional.py:1438:0\n",
      "  %input.268 : Float(1, 256, 14, 14, strides=[50176, 196, 14, 1], requires_grad=1, device=cpu) = onnx::Conv[dilations=[1, 1], group=1, kernel_shape=[1, 1], pads=[0, 0, 0, 0], strides=[1, 1]](%input.260, %599, %600) # /home/athena/anaconda3/envs/pythonProject/lib/python3.10/site-packages/torch/nn/modules/conv.py:442:0\n",
      "  %433 : Float(1, 256, 14, 14, strides=[50176, 196, 14, 1], requires_grad=1, device=cpu) = onnx::Relu(%input.268) # /home/athena/anaconda3/envs/pythonProject/lib/python3.10/site-packages/torch/nn/functional.py:1438:0\n",
      "  %input.276 : Float(1, 256, 14, 14, strides=[50176, 196, 14, 1], requires_grad=1, device=cpu) = onnx::Conv[dilations=[1, 1], group=1, kernel_shape=[3, 3], pads=[1, 1, 1, 1], strides=[1, 1]](%433, %602, %603) # /home/athena/anaconda3/envs/pythonProject/lib/python3.10/site-packages/torch/nn/modules/conv.py:442:0\n",
      "  %436 : Float(1, 256, 14, 14, strides=[50176, 196, 14, 1], requires_grad=1, device=cpu) = onnx::Relu(%input.276) # /home/athena/anaconda3/envs/pythonProject/lib/python3.10/site-packages/torch/nn/functional.py:1438:0\n",
      "  %604 : Float(1, 1024, 14, 14, strides=[200704, 196, 14, 1], requires_grad=1, device=cpu) = onnx::Conv[dilations=[1, 1], group=1, kernel_shape=[1, 1], pads=[0, 0, 0, 0], strides=[1, 1]](%436, %605, %606) # /home/athena/anaconda3/envs/pythonProject/lib/python3.10/site-packages/torch/nn/modules/conv.py:442:0\n",
      "  %439 : Float(1, 1024, 14, 14, strides=[200704, 196, 14, 1], requires_grad=1, device=cpu) = onnx::Add(%604, %input.260) # /home/athena/anaconda3/envs/pythonProject/lib/python3.10/site-packages/torchvision/models/resnet.py:150:0\n",
      "  %input.284 : Float(1, 1024, 14, 14, strides=[200704, 196, 14, 1], requires_grad=1, device=cpu) = onnx::Relu(%439) # /home/athena/anaconda3/envs/pythonProject/lib/python3.10/site-packages/torch/nn/functional.py:1438:0\n",
      "  %input.292 : Float(1, 256, 14, 14, strides=[50176, 196, 14, 1], requires_grad=1, device=cpu) = onnx::Conv[dilations=[1, 1], group=1, kernel_shape=[1, 1], pads=[0, 0, 0, 0], strides=[1, 1]](%input.284, %608, %609) # /home/athena/anaconda3/envs/pythonProject/lib/python3.10/site-packages/torch/nn/modules/conv.py:442:0\n",
      "  %443 : Float(1, 256, 14, 14, strides=[50176, 196, 14, 1], requires_grad=1, device=cpu) = onnx::Relu(%input.292) # /home/athena/anaconda3/envs/pythonProject/lib/python3.10/site-packages/torch/nn/functional.py:1438:0\n",
      "  %input.300 : Float(1, 256, 14, 14, strides=[50176, 196, 14, 1], requires_grad=1, device=cpu) = onnx::Conv[dilations=[1, 1], group=1, kernel_shape=[3, 3], pads=[1, 1, 1, 1], strides=[1, 1]](%443, %611, %612) # /home/athena/anaconda3/envs/pythonProject/lib/python3.10/site-packages/torch/nn/modules/conv.py:442:0\n",
      "  %446 : Float(1, 256, 14, 14, strides=[50176, 196, 14, 1], requires_grad=1, device=cpu) = onnx::Relu(%input.300) # /home/athena/anaconda3/envs/pythonProject/lib/python3.10/site-packages/torch/nn/functional.py:1438:0\n",
      "  %613 : Float(1, 1024, 14, 14, strides=[200704, 196, 14, 1], requires_grad=1, device=cpu) = onnx::Conv[dilations=[1, 1], group=1, kernel_shape=[1, 1], pads=[0, 0, 0, 0], strides=[1, 1]](%446, %614, %615) # /home/athena/anaconda3/envs/pythonProject/lib/python3.10/site-packages/torch/nn/modules/conv.py:442:0\n",
      "  %449 : Float(1, 1024, 14, 14, strides=[200704, 196, 14, 1], requires_grad=1, device=cpu) = onnx::Add(%613, %input.284) # /home/athena/anaconda3/envs/pythonProject/lib/python3.10/site-packages/torchvision/models/resnet.py:150:0\n",
      "  %input.308 : Float(1, 1024, 14, 14, strides=[200704, 196, 14, 1], requires_grad=1, device=cpu) = onnx::Relu(%449) # /home/athena/anaconda3/envs/pythonProject/lib/python3.10/site-packages/torch/nn/functional.py:1438:0\n",
      "  %input.316 : Float(1, 256, 14, 14, strides=[50176, 196, 14, 1], requires_grad=1, device=cpu) = onnx::Conv[dilations=[1, 1], group=1, kernel_shape=[1, 1], pads=[0, 0, 0, 0], strides=[1, 1]](%input.308, %617, %618) # /home/athena/anaconda3/envs/pythonProject/lib/python3.10/site-packages/torch/nn/modules/conv.py:442:0\n",
      "  %453 : Float(1, 256, 14, 14, strides=[50176, 196, 14, 1], requires_grad=1, device=cpu) = onnx::Relu(%input.316) # /home/athena/anaconda3/envs/pythonProject/lib/python3.10/site-packages/torch/nn/functional.py:1438:0\n",
      "  %input.324 : Float(1, 256, 14, 14, strides=[50176, 196, 14, 1], requires_grad=1, device=cpu) = onnx::Conv[dilations=[1, 1], group=1, kernel_shape=[3, 3], pads=[1, 1, 1, 1], strides=[1, 1]](%453, %620, %621) # /home/athena/anaconda3/envs/pythonProject/lib/python3.10/site-packages/torch/nn/modules/conv.py:442:0\n",
      "  %456 : Float(1, 256, 14, 14, strides=[50176, 196, 14, 1], requires_grad=1, device=cpu) = onnx::Relu(%input.324) # /home/athena/anaconda3/envs/pythonProject/lib/python3.10/site-packages/torch/nn/functional.py:1438:0\n",
      "  %622 : Float(1, 1024, 14, 14, strides=[200704, 196, 14, 1], requires_grad=1, device=cpu) = onnx::Conv[dilations=[1, 1], group=1, kernel_shape=[1, 1], pads=[0, 0, 0, 0], strides=[1, 1]](%456, %623, %624) # /home/athena/anaconda3/envs/pythonProject/lib/python3.10/site-packages/torch/nn/modules/conv.py:442:0\n",
      "  %459 : Float(1, 1024, 14, 14, strides=[200704, 196, 14, 1], requires_grad=1, device=cpu) = onnx::Add(%622, %input.308) # /home/athena/anaconda3/envs/pythonProject/lib/python3.10/site-packages/torchvision/models/resnet.py:150:0\n",
      "  %input.332 : Float(1, 1024, 14, 14, strides=[200704, 196, 14, 1], requires_grad=1, device=cpu) = onnx::Relu(%459) # /home/athena/anaconda3/envs/pythonProject/lib/python3.10/site-packages/torch/nn/functional.py:1438:0\n",
      "  %input.340 : Float(1, 512, 14, 14, strides=[100352, 196, 14, 1], requires_grad=1, device=cpu) = onnx::Conv[dilations=[1, 1], group=1, kernel_shape=[1, 1], pads=[0, 0, 0, 0], strides=[1, 1]](%input.332, %626, %627) # /home/athena/anaconda3/envs/pythonProject/lib/python3.10/site-packages/torch/nn/modules/conv.py:442:0\n",
      "  %463 : Float(1, 512, 14, 14, strides=[100352, 196, 14, 1], requires_grad=1, device=cpu) = onnx::Relu(%input.340) # /home/athena/anaconda3/envs/pythonProject/lib/python3.10/site-packages/torch/nn/functional.py:1438:0\n",
      "  %input.348 : Float(1, 512, 7, 7, strides=[25088, 49, 7, 1], requires_grad=1, device=cpu) = onnx::Conv[dilations=[1, 1], group=1, kernel_shape=[3, 3], pads=[1, 1, 1, 1], strides=[2, 2]](%463, %629, %630) # /home/athena/anaconda3/envs/pythonProject/lib/python3.10/site-packages/torch/nn/modules/conv.py:442:0\n",
      "  %466 : Float(1, 512, 7, 7, strides=[25088, 49, 7, 1], requires_grad=1, device=cpu) = onnx::Relu(%input.348) # /home/athena/anaconda3/envs/pythonProject/lib/python3.10/site-packages/torch/nn/functional.py:1438:0\n",
      "  %631 : Float(1, 2048, 7, 7, strides=[100352, 49, 7, 1], requires_grad=1, device=cpu) = onnx::Conv[dilations=[1, 1], group=1, kernel_shape=[1, 1], pads=[0, 0, 0, 0], strides=[1, 1]](%466, %632, %633) # /home/athena/anaconda3/envs/pythonProject/lib/python3.10/site-packages/torch/nn/modules/conv.py:442:0\n",
      "  %634 : Float(1, 2048, 7, 7, strides=[100352, 49, 7, 1], requires_grad=1, device=cpu) = onnx::Conv[dilations=[1, 1], group=1, kernel_shape=[1, 1], pads=[0, 0, 0, 0], strides=[2, 2]](%input.332, %635, %636) # /home/athena/anaconda3/envs/pythonProject/lib/python3.10/site-packages/torch/nn/modules/conv.py:442:0\n",
      "  %471 : Float(1, 2048, 7, 7, strides=[100352, 49, 7, 1], requires_grad=1, device=cpu) = onnx::Add(%631, %634) # /home/athena/anaconda3/envs/pythonProject/lib/python3.10/site-packages/torchvision/models/resnet.py:150:0\n",
      "  %input.360 : Float(1, 2048, 7, 7, strides=[100352, 49, 7, 1], requires_grad=1, device=cpu) = onnx::Relu(%471) # /home/athena/anaconda3/envs/pythonProject/lib/python3.10/site-packages/torch/nn/functional.py:1438:0\n",
      "  %input.368 : Float(1, 512, 7, 7, strides=[25088, 49, 7, 1], requires_grad=1, device=cpu) = onnx::Conv[dilations=[1, 1], group=1, kernel_shape=[1, 1], pads=[0, 0, 0, 0], strides=[1, 1]](%input.360, %638, %639) # /home/athena/anaconda3/envs/pythonProject/lib/python3.10/site-packages/torch/nn/modules/conv.py:442:0\n",
      "  %475 : Float(1, 512, 7, 7, strides=[25088, 49, 7, 1], requires_grad=1, device=cpu) = onnx::Relu(%input.368) # /home/athena/anaconda3/envs/pythonProject/lib/python3.10/site-packages/torch/nn/functional.py:1438:0\n",
      "  %input.376 : Float(1, 512, 7, 7, strides=[25088, 49, 7, 1], requires_grad=1, device=cpu) = onnx::Conv[dilations=[1, 1], group=1, kernel_shape=[3, 3], pads=[1, 1, 1, 1], strides=[1, 1]](%475, %641, %642) # /home/athena/anaconda3/envs/pythonProject/lib/python3.10/site-packages/torch/nn/modules/conv.py:442:0\n",
      "  %478 : Float(1, 512, 7, 7, strides=[25088, 49, 7, 1], requires_grad=1, device=cpu) = onnx::Relu(%input.376) # /home/athena/anaconda3/envs/pythonProject/lib/python3.10/site-packages/torch/nn/functional.py:1438:0\n",
      "  %643 : Float(1, 2048, 7, 7, strides=[100352, 49, 7, 1], requires_grad=1, device=cpu) = onnx::Conv[dilations=[1, 1], group=1, kernel_shape=[1, 1], pads=[0, 0, 0, 0], strides=[1, 1]](%478, %644, %645) # /home/athena/anaconda3/envs/pythonProject/lib/python3.10/site-packages/torch/nn/modules/conv.py:442:0\n",
      "  %481 : Float(1, 2048, 7, 7, strides=[100352, 49, 7, 1], requires_grad=1, device=cpu) = onnx::Add(%643, %input.360) # /home/athena/anaconda3/envs/pythonProject/lib/python3.10/site-packages/torchvision/models/resnet.py:150:0\n",
      "  %input.384 : Float(1, 2048, 7, 7, strides=[100352, 49, 7, 1], requires_grad=1, device=cpu) = onnx::Relu(%481) # /home/athena/anaconda3/envs/pythonProject/lib/python3.10/site-packages/torch/nn/functional.py:1438:0\n",
      "  %input.392 : Float(1, 512, 7, 7, strides=[25088, 49, 7, 1], requires_grad=1, device=cpu) = onnx::Conv[dilations=[1, 1], group=1, kernel_shape=[1, 1], pads=[0, 0, 0, 0], strides=[1, 1]](%input.384, %647, %648) # /home/athena/anaconda3/envs/pythonProject/lib/python3.10/site-packages/torch/nn/modules/conv.py:442:0\n",
      "  %485 : Float(1, 512, 7, 7, strides=[25088, 49, 7, 1], requires_grad=1, device=cpu) = onnx::Relu(%input.392) # /home/athena/anaconda3/envs/pythonProject/lib/python3.10/site-packages/torch/nn/functional.py:1438:0\n",
      "  %input.400 : Float(1, 512, 7, 7, strides=[25088, 49, 7, 1], requires_grad=1, device=cpu) = onnx::Conv[dilations=[1, 1], group=1, kernel_shape=[3, 3], pads=[1, 1, 1, 1], strides=[1, 1]](%485, %650, %651) # /home/athena/anaconda3/envs/pythonProject/lib/python3.10/site-packages/torch/nn/modules/conv.py:442:0\n",
      "  %488 : Float(1, 512, 7, 7, strides=[25088, 49, 7, 1], requires_grad=1, device=cpu) = onnx::Relu(%input.400) # /home/athena/anaconda3/envs/pythonProject/lib/python3.10/site-packages/torch/nn/functional.py:1438:0\n",
      "  %652 : Float(1, 2048, 7, 7, strides=[100352, 49, 7, 1], requires_grad=1, device=cpu) = onnx::Conv[dilations=[1, 1], group=1, kernel_shape=[1, 1], pads=[0, 0, 0, 0], strides=[1, 1]](%488, %653, %654) # /home/athena/anaconda3/envs/pythonProject/lib/python3.10/site-packages/torch/nn/modules/conv.py:442:0\n",
      "  %491 : Float(1, 2048, 7, 7, strides=[100352, 49, 7, 1], requires_grad=1, device=cpu) = onnx::Add(%652, %input.384) # /home/athena/anaconda3/envs/pythonProject/lib/python3.10/site-packages/torchvision/models/resnet.py:150:0\n",
      "  %input.408 : Float(1, 2048, 7, 7, strides=[100352, 49, 7, 1], requires_grad=1, device=cpu) = onnx::Relu(%491) # /home/athena/anaconda3/envs/pythonProject/lib/python3.10/site-packages/torch/nn/functional.py:1438:0\n",
      "  %493 : Float(1, 2048, 1, 1, strides=[2048, 1, 1, 1], requires_grad=1, device=cpu) = onnx::GlobalAveragePool(%input.408) # /home/athena/anaconda3/envs/pythonProject/lib/python3.10/site-packages/torch/nn/functional.py:1240:0\n",
      "  %494 : Float(1, 2048, strides=[2048, 1], requires_grad=1, device=cpu) = onnx::Flatten[axis=1](%493) # /home/athena/anaconda3/envs/pythonProject/lib/python3.10/site-packages/torchvision/models/resnet.py:271:0\n",
      "  %output : Float(1, 1000, strides=[1000, 1], requires_grad=1, device=cpu) = onnx::Gemm[alpha=1., beta=1., transB=1](%494, %fc.weight, %fc.bias) # /home/athena/anaconda3/envs/pythonProject/lib/python3.10/site-packages/torch/nn/modules/linear.py:103:0\n",
      "  return (%output)\n",
      "\n"
     ]
    }
   ],
   "source": [
    "# define the directory for further converted model save\n",
    "onnx_model_path = \"models\"\n",
    "# define the name of further converted model\n",
    "onnx_model_name = \"resnet50.onnx\"\n",
    "\n",
    "# create directory for further converted model\n",
    "os.makedirs(onnx_model_path, exist_ok=True)\n",
    "\n",
    "# get full path to the converted model\n",
    "full_model_path = os.path.join(onnx_model_path, onnx_model_name)\n",
    "\n",
    "# generate model input\n",
    "generated_input = Variable(\n",
    "    torch.randn(1, 3, 224, 224)\n",
    ")\n",
    "\n",
    "# model export into ONNX format\n",
    "torch.onnx.export(\n",
    "    ResNet50,\n",
    "    generated_input,\n",
    "    full_model_path,\n",
    "    verbose=True,\n",
    "    input_names=[\"star\"],\n",
    "    output_names=[\"output\"],\n",
    "    opset_version=11\n",
    ")"
   ],
   "metadata": {
    "collapsed": false,
    "pycharm": {
     "name": "#%%\n"
    }
   }
  },
  {
   "cell_type": "markdown",
   "source": [
    "# Using opencv load ONNX mat"
   ],
   "metadata": {
    "collapsed": false,
    "pycharm": {
     "name": "#%% md\n"
    }
   }
  },
  {
   "cell_type": "code",
   "execution_count": 4,
   "outputs": [
    {
     "name": "stdout",
     "output_type": "stream",
     "text": [
      "OpenCV model was successfully read. Layer IDs: \n",
      " ('onnx_node!Conv_0', 'onnx_node!Relu_1', 'onnx_node!MaxPool_2', 'onnx_node!Conv_3', 'onnx_node!Relu_4', 'onnx_node!Conv_5', 'onnx_node!Relu_6', 'onnx_node!Conv_7', 'onnx_node!Conv_8', 'onnx_node!Add_9', 'onnx_node!Relu_10', 'onnx_node!Conv_11', 'onnx_node!Relu_12', 'onnx_node!Conv_13', 'onnx_node!Relu_14', 'onnx_node!Conv_15', 'onnx_node!Add_16', 'onnx_node!Relu_17', 'onnx_node!Conv_18', 'onnx_node!Relu_19', 'onnx_node!Conv_20', 'onnx_node!Relu_21', 'onnx_node!Conv_22', 'onnx_node!Add_23', 'onnx_node!Relu_24', 'onnx_node!Conv_25', 'onnx_node!Relu_26', 'onnx_node!Conv_27', 'onnx_node!Relu_28', 'onnx_node!Conv_29', 'onnx_node!Conv_30', 'onnx_node!Add_31', 'onnx_node!Relu_32', 'onnx_node!Conv_33', 'onnx_node!Relu_34', 'onnx_node!Conv_35', 'onnx_node!Relu_36', 'onnx_node!Conv_37', 'onnx_node!Add_38', 'onnx_node!Relu_39', 'onnx_node!Conv_40', 'onnx_node!Relu_41', 'onnx_node!Conv_42', 'onnx_node!Relu_43', 'onnx_node!Conv_44', 'onnx_node!Add_45', 'onnx_node!Relu_46', 'onnx_node!Conv_47', 'onnx_node!Relu_48', 'onnx_node!Conv_49', 'onnx_node!Relu_50', 'onnx_node!Conv_51', 'onnx_node!Add_52', 'onnx_node!Relu_53', 'onnx_node!Conv_54', 'onnx_node!Relu_55', 'onnx_node!Conv_56', 'onnx_node!Relu_57', 'onnx_node!Conv_58', 'onnx_node!Conv_59', 'onnx_node!Add_60', 'onnx_node!Relu_61', 'onnx_node!Conv_62', 'onnx_node!Relu_63', 'onnx_node!Conv_64', 'onnx_node!Relu_65', 'onnx_node!Conv_66', 'onnx_node!Add_67', 'onnx_node!Relu_68', 'onnx_node!Conv_69', 'onnx_node!Relu_70', 'onnx_node!Conv_71', 'onnx_node!Relu_72', 'onnx_node!Conv_73', 'onnx_node!Add_74', 'onnx_node!Relu_75', 'onnx_node!Conv_76', 'onnx_node!Relu_77', 'onnx_node!Conv_78', 'onnx_node!Relu_79', 'onnx_node!Conv_80', 'onnx_node!Add_81', 'onnx_node!Relu_82', 'onnx_node!Conv_83', 'onnx_node!Relu_84', 'onnx_node!Conv_85', 'onnx_node!Relu_86', 'onnx_node!Conv_87', 'onnx_node!Add_88', 'onnx_node!Relu_89', 'onnx_node!Conv_90', 'onnx_node!Relu_91', 'onnx_node!Conv_92', 'onnx_node!Relu_93', 'onnx_node!Conv_94', 'onnx_node!Add_95', 'onnx_node!Relu_96', 'onnx_node!Conv_97', 'onnx_node!Relu_98', 'onnx_node!Conv_99', 'onnx_node!Relu_100', 'onnx_node!Conv_101', 'onnx_node!Conv_102', 'onnx_node!Add_103', 'onnx_node!Relu_104', 'onnx_node!Conv_105', 'onnx_node!Relu_106', 'onnx_node!Conv_107', 'onnx_node!Relu_108', 'onnx_node!Conv_109', 'onnx_node!Add_110', 'onnx_node!Relu_111', 'onnx_node!Conv_112', 'onnx_node!Relu_113', 'onnx_node!Conv_114', 'onnx_node!Relu_115', 'onnx_node!Conv_116', 'onnx_node!Add_117', 'onnx_node!Relu_118', 'onnx_node!GlobalAveragePool_119', 'onnx_node!Flatten_120/flatten', 'onnx_node!Flatten_120', 'onnx_node!Gemm_121', 'output')\n"
     ]
    }
   ],
   "source": [
    "opencv_net = cv2.dnn.readNetFromONNX('./models/resnet50.onnx')\n",
    "print(\"OpenCV model was successfully read. Layer IDs: \\n\", opencv_net.getLayerNames())"
   ],
   "metadata": {
    "collapsed": false,
    "pycharm": {
     "name": "#%%\n"
    }
   }
  },
  {
   "cell_type": "markdown",
   "source": [
    "# preprocess image\n",
    "加载标签\n",
    "处理图像"
   ],
   "metadata": {
    "collapsed": false,
    "pycharm": {
     "name": "#%% md\n"
    }
   }
  },
  {
   "cell_type": "markdown",
   "source": [
    "## 加载标签"
   ],
   "metadata": {
    "collapsed": false,
    "pycharm": {
     "name": "#%% md\n"
    }
   }
  },
  {
   "cell_type": "code",
   "execution_count": 5,
   "outputs": [
    {
     "name": "stdout",
     "output_type": "stream",
     "text": [
      "['tench, Tinca tinca', 'goldfish, Carassius auratus', 'great white shark, white shark, man-eater, man-eating shark, Carcharodon carcharias', 'tiger shark, Galeocerdo cuvieri', 'hammerhead, hammerhead shark', 'electric ray, crampfish, numbfish, torpedo', 'stingray', 'cock', 'hen', 'ostrich, Struthio camelus', 'brambling, Fringilla montifringilla', 'goldfinch, Carduelis carduelis', 'house finch, linnet, Carpodacus mexicanus', 'junco, snowbird', 'indigo bunting, indigo finch, indigo bird, Passerina cyanea', 'robin, American robin, Turdus migratorius', 'bulbul', 'jay', 'magpie', 'chickadee', 'water ouzel, dipper', 'kite', 'bald eagle, American eagle, Haliaeetus leucocephalus', 'vulture', 'great grey owl, great gray owl, Strix nebulosa', 'European fire salamander, Salamandra salamandra', 'common newt, Triturus vulgaris', 'eft', 'spotted salamander, Ambystoma maculatum', 'axolotl, mud puppy, Ambystoma mexicanum', 'bullfrog, Rana catesbeiana', 'tree frog, tree-frog', 'tailed frog, bell toad, ribbed toad, tailed toad, Ascaphus trui', 'loggerhead, loggerhead turtle, Caretta caretta', 'leatherback turtle, leatherback, leathery turtle, Dermochelys coriacea', 'mud turtle', 'terrapin', 'box turtle, box tortoise', 'banded gecko', 'common iguana, iguana, Iguana iguana', 'American chameleon, anole, Anolis carolinensis', 'whiptail, whiptail lizard', 'agama', 'frilled lizard, Chlamydosaurus kingi', 'alligator lizard', 'Gila monster, Heloderma suspectum', 'green lizard, Lacerta viridis', 'African chameleon, Chamaeleo chamaeleon', 'Komodo dragon, Komodo lizard, dragon lizard, giant lizard, Varanus komodoensis', 'African crocodile, Nile crocodile, Crocodylus niloticus', 'American alligator, Alligator mississipiensis', 'triceratops', 'thunder snake, worm snake, Carphophis amoenus', 'ringneck snake, ring-necked snake, ring snake', 'hognose snake, puff adder, sand viper', 'green snake, grass snake', 'king snake, kingsnake', 'garter snake, grass snake', 'water snake', 'vine snake', 'night snake, Hypsiglena torquata', 'boa constrictor, Constrictor constrictor', 'rock python, rock snake, Python sebae', 'Indian cobra, Naja naja', 'green mamba', 'sea snake', 'horned viper, cerastes, sand viper, horned asp, Cerastes cornutus', 'diamondback, diamondback rattlesnake, Crotalus adamanteus', 'sidewinder, horned rattlesnake, Crotalus cerastes', 'trilobite', 'harvestman, daddy longlegs, Phalangium opilio', 'scorpion', 'black and gold garden spider, Argiope aurantia', 'barn spider, Araneus cavaticus', 'garden spider, Aranea diademata', 'black widow, Latrodectus mactans', 'tarantula', 'wolf spider, hunting spider', 'tick', 'centipede', 'black grouse', 'ptarmigan', 'ruffed grouse, partridge, Bonasa umbellus', 'prairie chicken, prairie grouse, prairie fowl', 'peacock', 'quail', 'partridge', 'African grey, African gray, Psittacus erithacus', 'macaw', 'sulphur-crested cockatoo, Kakatoe galerita, Cacatua galerita', 'lorikeet', 'coucal', 'bee eater', 'hornbill', 'hummingbird', 'jacamar', 'toucan', 'drake', 'red-breasted merganser, Mergus serrator', 'goose', 'black swan, Cygnus atratus', 'tusker', 'echidna, spiny anteater, anteater', 'platypus, duckbill, duckbilled platypus, duck-billed platypus, Ornithorhynchus anatinus', 'wallaby, brush kangaroo', 'koala, koala bear, kangaroo bear, native bear, Phascolarctos cinereus', 'wombat', 'jellyfish', 'sea anemone, anemone', 'brain coral', 'flatworm, platyhelminth', 'nematode, nematode worm, roundworm', 'conch', 'snail', 'slug', 'sea slug, nudibranch', 'chiton, coat-of-mail shell, sea cradle, polyplacophore', 'chambered nautilus, pearly nautilus, nautilus', 'Dungeness crab, Cancer magister', 'rock crab, Cancer irroratus', 'fiddler crab', 'king crab, Alaska crab, Alaskan king crab, Alaska king crab, Paralithodes camtschatica', 'American lobster, Northern lobster, Maine lobster, Homarus americanus', 'spiny lobster, langouste, rock lobster, crawfish, crayfish, sea crawfish', 'crayfish, crawfish, crawdad, crawdaddy', 'hermit crab', 'isopod', 'white stork, Ciconia ciconia', 'black stork, Ciconia nigra', 'spoonbill', 'flamingo', 'little blue heron, Egretta caerulea', 'American egret, great white heron, Egretta albus', 'bittern', 'crane', 'limpkin, Aramus pictus', 'European gallinule, Porphyrio porphyrio', 'American coot, marsh hen, mud hen, water hen, Fulica americana', 'bustard', 'ruddy turnstone, Arenaria interpres', 'red-backed sandpiper, dunlin, Erolia alpina', 'redshank, Tringa totanus', 'dowitcher', 'oystercatcher, oyster catcher', 'pelican', 'king penguin, Aptenodytes patagonica', 'albatross, mollymawk', 'grey whale, gray whale, devilfish, Eschrichtius gibbosus, Eschrichtius robustus', 'killer whale, killer, orca, grampus, sea wolf, Orcinus orca', 'dugong, Dugong dugon', 'sea lion', 'Chihuahua', 'Japanese spaniel', 'Maltese dog, Maltese terrier, Maltese', 'Pekinese, Pekingese, Peke', 'Shih-Tzu', 'Blenheim spaniel', 'papillon', 'toy terrier', 'Rhodesian ridgeback', 'Afghan hound, Afghan', 'basset, basset hound', 'beagle', 'bloodhound, sleuthhound', 'bluetick', 'black-and-tan coonhound', 'Walker hound, Walker foxhound', 'English foxhound', 'redbone', 'borzoi, Russian wolfhound', 'Irish wolfhound', 'Italian greyhound', 'whippet', 'Ibizan hound, Ibizan Podenco', 'Norwegian elkhound, elkhound', 'otterhound, otter hound', 'Saluki, gazelle hound', 'Scottish deerhound, deerhound', 'Weimaraner', 'Staffordshire bullterrier, Staffordshire bull terrier', 'American Staffordshire terrier, Staffordshire terrier, American pit bull terrier, pit bull terrier', 'Bedlington terrier', 'Border terrier', 'Kerry blue terrier', 'Irish terrier', 'Norfolk terrier', 'Norwich terrier', 'Yorkshire terrier', 'wire-haired fox terrier', 'Lakeland terrier', 'Sealyham terrier, Sealyham', 'Airedale, Airedale terrier', 'cairn, cairn terrier', 'Australian terrier', 'Dandie Dinmont, Dandie Dinmont terrier', 'Boston bull, Boston terrier', 'miniature schnauzer', 'giant schnauzer', 'standard schnauzer', 'Scotch terrier, Scottish terrier, Scottie', 'Tibetan terrier, chrysanthemum dog', 'silky terrier, Sydney silky', 'soft-coated wheaten terrier', 'West Highland white terrier', 'Lhasa, Lhasa apso', 'flat-coated retriever', 'curly-coated retriever', 'golden retriever', 'Labrador retriever', 'Chesapeake Bay retriever', 'German short-haired pointer', 'vizsla, Hungarian pointer', 'English setter', 'Irish setter, red setter', 'Gordon setter', 'Brittany spaniel', 'clumber, clumber spaniel', 'English springer, English springer spaniel', 'Welsh springer spaniel', 'cocker spaniel, English cocker spaniel, cocker', 'Sussex spaniel', 'Irish water spaniel', 'kuvasz', 'schipperke', 'groenendael', 'malinois', 'briard', 'kelpie', 'komondor', 'Old English sheepdog, bobtail', 'Shetland sheepdog, Shetland sheep dog, Shetland', 'collie', 'Border collie', 'Bouvier des Flandres, Bouviers des Flandres', 'Rottweiler', 'German shepherd, German shepherd dog, German police dog, alsatian', 'Doberman, Doberman pinscher', 'miniature pinscher', 'Greater Swiss Mountain dog', 'Bernese mountain dog', 'Appenzeller', 'EntleBucher', 'boxer', 'bull mastiff', 'Tibetan mastiff', 'French bulldog', 'Great Dane', 'Saint Bernard, St Bernard', 'Eskimo dog, husky', 'malamute, malemute, Alaskan malamute', 'Siberian husky', 'dalmatian, coach dog, carriage dog', 'affenpinscher, monkey pinscher, monkey dog', 'basenji', 'pug, pug-dog', 'Leonberg', 'Newfoundland, Newfoundland dog', 'Great Pyrenees', 'Samoyed, Samoyede', 'Pomeranian', 'chow, chow chow', 'keeshond', 'Brabancon griffon', 'Pembroke, Pembroke Welsh corgi', 'Cardigan, Cardigan Welsh corgi', 'toy poodle', 'miniature poodle', 'standard poodle', 'Mexican hairless', 'timber wolf, grey wolf, gray wolf, Canis lupus', 'white wolf, Arctic wolf, Canis lupus tundrarum', 'red wolf, maned wolf, Canis rufus, Canis niger', 'coyote, prairie wolf, brush wolf, Canis latrans', 'dingo, warrigal, warragal, Canis dingo', 'dhole, Cuon alpinus', 'African hunting dog, hyena dog, Cape hunting dog, Lycaon pictus', 'hyena, hyaena', 'red fox, Vulpes vulpes', 'kit fox, Vulpes macrotis', 'Arctic fox, white fox, Alopex lagopus', 'grey fox, gray fox, Urocyon cinereoargenteus', 'tabby, tabby cat', 'tiger cat', 'Persian cat', 'Siamese cat, Siamese', 'Egyptian cat', 'cougar, puma, catamount, mountain lion, painter, panther, Felis concolor', 'lynx, catamount', 'leopard, Panthera pardus', 'snow leopard, ounce, Panthera uncia', 'jaguar, panther, Panthera onca, Felis onca', 'lion, king of beasts, Panthera leo', 'tiger, Panthera tigris', 'cheetah, chetah, Acinonyx jubatus', 'brown bear, bruin, Ursus arctos', 'American black bear, black bear, Ursus americanus, Euarctos americanus', 'ice bear, polar bear, Ursus Maritimus, Thalarctos maritimus', 'sloth bear, Melursus ursinus, Ursus ursinus', 'mongoose', 'meerkat, mierkat', 'tiger beetle', 'ladybug, ladybeetle, lady beetle, ladybird, ladybird beetle', 'ground beetle, carabid beetle', 'long-horned beetle, longicorn, longicorn beetle', 'leaf beetle, chrysomelid', 'dung beetle', 'rhinoceros beetle', 'weevil', 'fly', 'bee', 'ant, emmet, pismire', 'grasshopper, hopper', 'cricket', 'walking stick, walkingstick, stick insect', 'cockroach, roach', 'mantis, mantid', 'cicada, cicala', 'leafhopper', 'lacewing, lacewing fly', \"dragonfly, darning needle, devil's darning needle, sewing needle, snake feeder, snake doctor, mosquito hawk, skeeter hawk\", 'damselfly', 'admiral', 'ringlet, ringlet butterfly', 'monarch, monarch butterfly, milkweed butterfly, Danaus plexippus', 'cabbage butterfly', 'sulphur butterfly, sulfur butterfly', 'lycaenid, lycaenid butterfly', 'starfish, sea star', 'sea urchin', 'sea cucumber, holothurian', 'wood rabbit, cottontail, cottontail rabbit', 'hare', 'Angora, Angora rabbit', 'hamster', 'porcupine, hedgehog', 'fox squirrel, eastern fox squirrel, Sciurus niger', 'marmot', 'beaver', 'guinea pig, Cavia cobaya', 'sorrel', 'zebra', 'hog, pig, grunter, squealer, Sus scrofa', 'wild boar, boar, Sus scrofa', 'warthog', 'hippopotamus, hippo, river horse, Hippopotamus amphibius', 'ox', 'water buffalo, water ox, Asiatic buffalo, Bubalus bubalis', 'bison', 'ram, tup', 'bighorn, bighorn sheep, cimarron, Rocky Mountain bighorn, Rocky Mountain sheep, Ovis canadensis', 'ibex, Capra ibex', 'hartebeest', 'impala, Aepyceros melampus', 'gazelle', 'Arabian camel, dromedary, Camelus dromedarius', 'llama', 'weasel', 'mink', 'polecat, fitch, foulmart, foumart, Mustela putorius', 'black-footed ferret, ferret, Mustela nigripes', 'otter', 'skunk, polecat, wood pussy', 'badger', 'armadillo', 'three-toed sloth, ai, Bradypus tridactylus', 'orangutan, orang, orangutang, Pongo pygmaeus', 'gorilla, Gorilla gorilla', 'chimpanzee, chimp, Pan troglodytes', 'gibbon, Hylobates lar', 'siamang, Hylobates syndactylus, Symphalangus syndactylus', 'guenon, guenon monkey', 'patas, hussar monkey, Erythrocebus patas', 'baboon', 'macaque', 'langur', 'colobus, colobus monkey', 'proboscis monkey, Nasalis larvatus', 'marmoset', 'capuchin, ringtail, Cebus capucinus', 'howler monkey, howler', 'titi, titi monkey', 'spider monkey, Ateles geoffroyi', 'squirrel monkey, Saimiri sciureus', 'Madagascar cat, ring-tailed lemur, Lemur catta', 'indri, indris, Indri indri, Indri brevicaudatus', 'Indian elephant, Elephas maximus', 'African elephant, Loxodonta africana', 'lesser panda, red panda, panda, bear cat, cat bear, Ailurus fulgens', 'giant panda, panda, panda bear, coon bear, Ailuropoda melanoleuca', 'barracouta, snoek', 'eel', 'coho, cohoe, coho salmon, blue jack, silver salmon, Oncorhynchus kisutch', 'rock beauty, Holocanthus tricolor', 'anemone fish', 'sturgeon', 'gar, garfish, garpike, billfish, Lepisosteus osseus', 'lionfish', 'puffer, pufferfish, blowfish, globefish', 'abacus', 'abaya', \"academic gown, academic robe, judge's robe\", 'accordion, piano accordion, squeeze box', 'acoustic guitar', 'aircraft carrier, carrier, flattop, attack aircraft carrier', 'airliner', 'airship, dirigible', 'altar', 'ambulance', 'amphibian, amphibious vehicle', 'analog clock', 'apiary, bee house', 'apron', 'ashcan, trash can, garbage can, wastebin, ash bin, ash-bin, ashbin, dustbin, trash barrel, trash bin', 'assault rifle, assault gun', 'backpack, back pack, knapsack, packsack, rucksack, haversack', 'bakery, bakeshop, bakehouse', 'balance beam, beam', 'balloon', 'ballpoint, ballpoint pen, ballpen, Biro', 'Band Aid', 'banjo', 'bannister, banister, balustrade, balusters, handrail', 'barbell', 'barber chair', 'barbershop', 'barn', 'barometer', 'barrel, cask', 'barrow, garden cart, lawn cart, wheelbarrow', 'baseball', 'basketball', 'bassinet', 'bassoon', 'bathing cap, swimming cap', 'bath towel', 'bathtub, bathing tub, bath, tub', 'beach wagon, station wagon, wagon, estate car, beach waggon, station waggon, waggon', 'beacon, lighthouse, beacon light, pharos', 'beaker', 'bearskin, busby, shako', 'beer bottle', 'beer glass', 'bell cote, bell cot', 'bib', 'bicycle-built-for-two, tandem bicycle, tandem', 'bikini, two-piece', 'binder, ring-binder', 'binoculars, field glasses, opera glasses', 'birdhouse', 'boathouse', 'bobsled, bobsleigh, bob', 'bolo tie, bolo, bola tie, bola', 'bonnet, poke bonnet', 'bookcase', 'bookshop, bookstore, bookstall', 'bottlecap', 'bow', 'bow tie, bow-tie, bowtie', 'brass, memorial tablet, plaque', 'brassiere, bra, bandeau', 'breakwater, groin, groyne, mole, bulwark, seawall, jetty', 'breastplate, aegis, egis', 'broom', 'bucket, pail', 'buckle', 'bulletproof vest', 'bullet train, bullet', 'butcher shop, meat market', 'cab, hack, taxi, taxicab', 'caldron, cauldron', 'candle, taper, wax light', 'cannon', 'canoe', 'can opener, tin opener', 'cardigan', 'car mirror', 'carousel, carrousel, merry-go-round, roundabout, whirligig', \"carpenter's kit, tool kit\", 'carton', 'car wheel', 'cash machine, cash dispenser, automated teller machine, automatic teller machine, automated teller, automatic teller, ATM', 'cassette', 'cassette player', 'castle', 'catamaran', 'CD player', 'cello, violoncello', 'cellular telephone, cellular phone, cellphone, cell, mobile phone', 'chain', 'chainlink fence', 'chain mail, ring mail, mail, chain armor, chain armour, ring armor, ring armour', 'chain saw, chainsaw', 'chest', 'chiffonier, commode', 'chime, bell, gong', 'china cabinet, china closet', 'Christmas stocking', 'church, church building', 'cinema, movie theater, movie theatre, movie house, picture palace', 'cleaver, meat cleaver, chopper', 'cliff dwelling', 'cloak', 'clog, geta, patten, sabot', 'cocktail shaker', 'coffee mug', 'coffeepot', 'coil, spiral, volute, whorl, helix', 'combination lock', 'computer keyboard, keypad', 'confectionery, confectionary, candy store', 'container ship, containership, container vessel', 'convertible', 'corkscrew, bottle screw', 'cornet, horn, trumpet, trump', 'cowboy boot', 'cowboy hat, ten-gallon hat', 'cradle', 'crane', 'crash helmet', 'crate', 'crib, cot', 'Crock Pot', 'croquet ball', 'crutch', 'cuirass', 'dam, dike, dyke', 'desk', 'desktop computer', 'dial telephone, dial phone', 'diaper, nappy, napkin', 'digital clock', 'digital watch', 'dining table, board', 'dishrag, dishcloth', 'dishwasher, dish washer, dishwashing machine', 'disk brake, disc brake', 'dock, dockage, docking facility', 'dogsled, dog sled, dog sleigh', 'dome', 'doormat, welcome mat', 'drilling platform, offshore rig', 'drum, membranophone, tympan', 'drumstick', 'dumbbell', 'Dutch oven', 'electric fan, blower', 'electric guitar', 'electric locomotive', 'entertainment center', 'envelope', 'espresso maker', 'face powder', 'feather boa, boa', 'file, file cabinet, filing cabinet', 'fireboat', 'fire engine, fire truck', 'fire screen, fireguard', 'flagpole, flagstaff', 'flute, transverse flute', 'folding chair', 'football helmet', 'forklift', 'fountain', 'fountain pen', 'four-poster', 'freight car', 'French horn, horn', 'frying pan, frypan, skillet', 'fur coat', 'garbage truck, dustcart', 'gasmask, respirator, gas helmet', 'gas pump, gasoline pump, petrol pump, island dispenser', 'goblet', 'go-kart', 'golf ball', 'golfcart, golf cart', 'gondola', 'gong, tam-tam', 'gown', 'grand piano, grand', 'greenhouse, nursery, glasshouse', 'grille, radiator grille', 'grocery store, grocery, food market, market', 'guillotine', 'hair slide', 'hair spray', 'half track', 'hammer', 'hamper', 'hand blower, blow dryer, blow drier, hair dryer, hair drier', 'hand-held computer, hand-held microcomputer', 'handkerchief, hankie, hanky, hankey', 'hard disc, hard disk, fixed disk', 'harmonica, mouth organ, harp, mouth harp', 'harp', 'harvester, reaper', 'hatchet', 'holster', 'home theater, home theatre', 'honeycomb', 'hook, claw', 'hoopskirt, crinoline', 'horizontal bar, high bar', 'horse cart, horse-cart', 'hourglass', 'iPod', 'iron, smoothing iron', \"jack-o'-lantern\", 'jean, blue jean, denim', 'jeep, landrover', 'jersey, T-shirt, tee shirt', 'jigsaw puzzle', 'jinrikisha, ricksha, rickshaw', 'joystick', 'kimono', 'knee pad', 'knot', 'lab coat, laboratory coat', 'ladle', 'lampshade, lamp shade', 'laptop, laptop computer', 'lawn mower, mower', 'lens cap, lens cover', 'letter opener, paper knife, paperknife', 'library', 'lifeboat', 'lighter, light, igniter, ignitor', 'limousine, limo', 'liner, ocean liner', 'lipstick, lip rouge', 'Loafer', 'lotion', 'loudspeaker, speaker, speaker unit, loudspeaker system, speaker system', \"loupe, jeweler's loupe\", 'lumbermill, sawmill', 'magnetic compass', 'mailbag, postbag', 'mailbox, letter box', 'maillot', 'maillot, tank suit', 'manhole cover', 'maraca', 'marimba, xylophone', 'mask', 'matchstick', 'maypole', 'maze, labyrinth', 'measuring cup', 'medicine chest, medicine cabinet', 'megalith, megalithic structure', 'microphone, mike', 'microwave, microwave oven', 'military uniform', 'milk can', 'minibus', 'miniskirt, mini', 'minivan', 'missile', 'mitten', 'mixing bowl', 'mobile home, manufactured home', 'Model T', 'modem', 'monastery', 'monitor', 'moped', 'mortar', 'mortarboard', 'mosque', 'mosquito net', 'motor scooter, scooter', 'mountain bike, all-terrain bike, off-roader', 'mountain tent', 'mouse, computer mouse', 'mousetrap', 'moving van', 'muzzle', 'nail', 'neck brace', 'necklace', 'nipple', 'notebook, notebook computer', 'obelisk', 'oboe, hautboy, hautbois', 'ocarina, sweet potato', 'odometer, hodometer, mileometer, milometer', 'oil filter', 'organ, pipe organ', 'oscilloscope, scope, cathode-ray oscilloscope, CRO', 'overskirt', 'oxcart', 'oxygen mask', 'packet', 'paddle, boat paddle', 'paddlewheel, paddle wheel', 'padlock', 'paintbrush', \"pajama, pyjama, pj's, jammies\", 'palace', 'panpipe, pandean pipe, syrinx', 'paper towel', 'parachute, chute', 'parallel bars, bars', 'park bench', 'parking meter', 'passenger car, coach, carriage', 'patio, terrace', 'pay-phone, pay-station', 'pedestal, plinth, footstall', 'pencil box, pencil case', 'pencil sharpener', 'perfume, essence', 'Petri dish', 'photocopier', 'pick, plectrum, plectron', 'pickelhaube', 'picket fence, paling', 'pickup, pickup truck', 'pier', 'piggy bank, penny bank', 'pill bottle', 'pillow', 'ping-pong ball', 'pinwheel', 'pirate, pirate ship', 'pitcher, ewer', \"plane, carpenter's plane, woodworking plane\", 'planetarium', 'plastic bag', 'plate rack', 'plow, plough', \"plunger, plumber's helper\", 'Polaroid camera, Polaroid Land camera', 'pole', 'police van, police wagon, paddy wagon, patrol wagon, wagon, black Maria', 'poncho', 'pool table, billiard table, snooker table', 'pop bottle, soda bottle', 'pot, flowerpot', \"potter's wheel\", 'power drill', 'prayer rug, prayer mat', 'printer', 'prison, prison house', 'projectile, missile', 'projector', 'puck, hockey puck', 'punching bag, punch bag, punching ball, punchball', 'purse', 'quill, quill pen', 'quilt, comforter, comfort, puff', 'racer, race car, racing car', 'racket, racquet', 'radiator', 'radio, wireless', 'radio telescope, radio reflector', 'rain barrel', 'recreational vehicle, RV, R.V.', 'reel', 'reflex camera', 'refrigerator, icebox', 'remote control, remote', 'restaurant, eating house, eating place, eatery', 'revolver, six-gun, six-shooter', 'rifle', 'rocking chair, rocker', 'rotisserie', 'rubber eraser, rubber, pencil eraser', 'rugby ball', 'rule, ruler', 'running shoe', 'safe', 'safety pin', 'saltshaker, salt shaker', 'sandal', 'sarong', 'sax, saxophone', 'scabbard', 'scale, weighing machine', 'school bus', 'schooner', 'scoreboard', 'screen, CRT screen', 'screw', 'screwdriver', 'seat belt, seatbelt', 'sewing machine', 'shield, buckler', 'shoe shop, shoe-shop, shoe store', 'shoji', 'shopping basket', 'shopping cart', 'shovel', 'shower cap', 'shower curtain', 'ski', 'ski mask', 'sleeping bag', 'slide rule, slipstick', 'sliding door', 'slot, one-armed bandit', 'snorkel', 'snowmobile', 'snowplow, snowplough', 'soap dispenser', 'soccer ball', 'sock', 'solar dish, solar collector, solar furnace', 'sombrero', 'soup bowl', 'space bar', 'space heater', 'space shuttle', 'spatula', 'speedboat', \"spider web, spider's web\", 'spindle', 'sports car, sport car', 'spotlight, spot', 'stage', 'steam locomotive', 'steel arch bridge', 'steel drum', 'stethoscope', 'stole', 'stone wall', 'stopwatch, stop watch', 'stove', 'strainer', 'streetcar, tram, tramcar, trolley, trolley car', 'stretcher', 'studio couch, day bed', 'stupa, tope', 'submarine, pigboat, sub, U-boat', 'suit, suit of clothes', 'sundial', 'sunglass', 'sunglasses, dark glasses, shades', 'sunscreen, sunblock, sun blocker', 'suspension bridge', 'swab, swob, mop', 'sweatshirt', 'swimming trunks, bathing trunks', 'swing', 'switch, electric switch, electrical switch', 'syringe', 'table lamp', 'tank, army tank, armored combat vehicle, armoured combat vehicle', 'tape player', 'teapot', 'teddy, teddy bear', 'television, television system', 'tennis ball', 'thatch, thatched roof', 'theater curtain, theatre curtain', 'thimble', 'thresher, thrasher, threshing machine', 'throne', 'tile roof', 'toaster', 'tobacco shop, tobacconist shop, tobacconist', 'toilet seat', 'torch', 'totem pole', 'tow truck, tow car, wrecker', 'toyshop', 'tractor', 'trailer truck, tractor trailer, trucking rig, rig, articulated lorry, semi', 'tray', 'trench coat', 'tricycle, trike, velocipede', 'trimaran', 'tripod', 'triumphal arch', 'trolleybus, trolley coach, trackless trolley', 'trombone', 'tub, vat', 'turnstile', 'typewriter keyboard', 'umbrella', 'unicycle, monocycle', 'upright, upright piano', 'vacuum, vacuum cleaner', 'vase', 'vault', 'velvet', 'vending machine', 'vestment', 'viaduct', 'violin, fiddle', 'volleyball', 'waffle iron', 'wall clock', 'wallet, billfold, notecase, pocketbook', 'wardrobe, closet, press', 'warplane, military plane', 'washbasin, handbasin, washbowl, lavabo, wash-hand basin', 'washer, automatic washer, washing machine', 'water bottle', 'water jug', 'water tower', 'whiskey jug', 'whistle', 'wig', 'window screen', 'window shade', 'Windsor tie', 'wine bottle', 'wing', 'wok', 'wooden spoon', 'wool, woolen, woollen', 'worm fence, snake fence, snake-rail fence, Virginia fence', 'wreck', 'yawl', 'yurt', 'web site, website, internet site, site', 'comic book', 'crossword puzzle, crossword', 'street sign', 'traffic light, traffic signal, stoplight', 'book jacket, dust cover, dust jacket, dust wrapper', 'menu', 'plate', 'guacamole', 'consomme', 'hot pot, hotpot', 'trifle', 'ice cream, icecream', 'ice lolly, lolly, lollipop, popsicle', 'French loaf', 'bagel, beigel', 'pretzel', 'cheeseburger', 'hotdog, hot dog, red hot', 'mashed potato', 'head cabbage', 'broccoli', 'cauliflower', 'zucchini, courgette', 'spaghetti squash', 'acorn squash', 'butternut squash', 'cucumber, cuke', 'artichoke, globe artichoke', 'bell pepper', 'cardoon', 'mushroom', 'Granny Smith', 'strawberry', 'orange', 'lemon', 'fig', 'pineapple, ananas', 'banana', 'jackfruit, jak, jack', 'custard apple', 'pomegranate', 'hay', 'carbonara', 'chocolate sauce, chocolate syrup', 'dough', 'meat loaf, meatloaf', 'pizza, pizza pie', 'potpie', 'burrito', 'red wine', 'espresso', 'cup', 'eggnog', 'alp', 'bubble', 'cliff, drop, drop-off', 'coral reef', 'geyser', 'lakeside, lakeshore', 'promontory, headland, head, foreland', 'sandbar, sand bar', 'seashore, coast, seacoast, sea-coast', 'valley, vale', 'volcano', 'ballplayer, baseball player', 'groom, bridegroom', 'scuba diver', 'rapeseed', 'daisy', \"yellow lady's slipper, yellow lady-slipper, Cypripedium calceolus, Cypripedium parviflorum\", 'corn', 'acorn', 'hip, rose hip, rosehip', 'buckeye, horse chestnut, conker', 'coral fungus', 'agaric', 'gyromitra', 'stinkhorn, carrion fungus', 'earthstar', 'hen-of-the-woods, hen of the woods, Polyporus frondosus, Grifola frondosa', 'bolete', 'ear, spike, capitulum', 'toilet tissue, toilet paper, bathroom tissue']\n"
     ]
    }
   ],
   "source": [
    "with open('./data/dnn/classification_classes_ILSVRC2012.txt') as f:\n",
    "    imagenet_labels = [line.strip() for line in f.readlines()]\n",
    "print(imagenet_labels)"
   ],
   "metadata": {
    "collapsed": false,
    "pycharm": {
     "name": "#%%\n"
    }
   }
  },
  {
   "cell_type": "markdown",
   "source": [
    "# 处理图像"
   ],
   "metadata": {
    "collapsed": false,
    "pycharm": {
     "name": "#%% md\n"
    }
   }
  },
  {
   "cell_type": "code",
   "execution_count": 6,
   "outputs": [],
   "source": [
    "# 加载并处理图像\n",
    "input_img = cv2.imread('./wang.jpeg', cv2.IMREAD_COLOR)\n",
    "input_img = input_img.astype(np.float32)\n",
    "\n",
    "input_img = cv2.resize(input_img, (256, 256))\n",
    "\n",
    "# define preprocess parameters\n",
    "mean = np.array([0.485, 0.456, 0.406]) * 255.0\n",
    "scale = 1 / 255.0\n",
    "std = [0.229, 0.224, 0.225]\n",
    "\n",
    "# prepare input blob to fit the model input:\n",
    "# 1. subtract mean\n",
    "# 2. scale to set pixel values from 0 to 1\n",
    "input_blob = cv2.dnn.blobFromImage(\n",
    "    image=input_img,\n",
    "    scalefactor=scale,\n",
    "    size=(224, 224),  # img target size\n",
    "    mean=mean,\n",
    "    swapRB=True,  # BGR -> RGB\n",
    "    crop=True  # center crop\n",
    ")\n",
    "# 3. divide by std\n",
    "input_blob[0] /= np.asarray(std, dtype=np.float32).reshape(3, 1, 1) # 只让通道标准化\n",
    "\n",
    "preproc_img = input_blob"
   ],
   "metadata": {
    "collapsed": false,
    "pycharm": {
     "name": "#%%\n"
    }
   }
  },
  {
   "cell_type": "markdown",
   "source": [
    "# predict using DNN"
   ],
   "metadata": {
    "collapsed": false,
    "pycharm": {
     "name": "#%% md\n"
    }
   }
  },
  {
   "cell_type": "code",
   "execution_count": 7,
   "outputs": [
    {
     "name": "stdout",
     "output_type": "stream",
     "text": [
      "OpenCV DNN prediction: \n",
      "\n",
      "* shape:  (1, 1000)\n",
      "* class ID: 655, label: miniskirt, mini\n",
      "* confidence: 10.4047\n"
     ]
    }
   ],
   "source": [
    "# 进行预测\n",
    "# set OpenCV DNN input\n",
    "opencv_net.setInput(preproc_img)\n",
    "\n",
    "# OpenCV DNN inference\n",
    "out = opencv_net.forward()\n",
    "print(\"OpenCV DNN prediction: \\n\")\n",
    "print(\"* shape: \", out.shape)   # (1,1000)\n",
    "\n",
    "# get the predicted class ID  获取最大的概率的index\n",
    "imagenet_class_id = np.argmax(out)\n",
    "\n",
    "# get confidence 预测为该分类的概率\n",
    "confidence = out[0][imagenet_class_id]\n",
    "\n",
    "print(\"* class ID: {}, label: {}\".format(imagenet_class_id, imagenet_labels[imagenet_class_id]))\n",
    "print(\"* confidence: {:.4f}\".format(confidence))"
   ],
   "metadata": {
    "collapsed": false,
    "pycharm": {
     "name": "#%%\n"
    }
   }
  }
 ],
 "metadata": {
  "kernelspec": {
   "display_name": "Python 3",
   "language": "python",
   "name": "python3"
  },
  "language_info": {
   "codemirror_mode": {
    "name": "ipython",
    "version": 2
   },
   "file_extension": ".py",
   "mimetype": "text/x-python",
   "name": "python",
   "nbconvert_exporter": "python",
   "pygments_lexer": "ipython2",
   "version": "2.7.6"
  }
 },
 "nbformat": 4,
 "nbformat_minor": 0
}